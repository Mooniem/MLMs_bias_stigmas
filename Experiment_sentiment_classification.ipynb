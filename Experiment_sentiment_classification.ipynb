{
 "cells": [
  {
   "attachments": {},
   "cell_type": "markdown",
   "metadata": {},
   "source": [
    "Experiments with sentiment classifier takes two steps \n",
    "\n",
    "1) Generate prompts for classification\n",
    "\n",
    "2) Pass prompts to each sentiment classifier on classification"
   ]
  },
  {
   "cell_type": "code",
   "execution_count": null,
   "metadata": {},
   "outputs": [],
   "source": [
    "from helper_functions import write_prompts\n",
    "import pandas as pd\n",
    "\n",
    "\n",
    "# Load data\n",
    "stigma_data = pd.read_csv(\"stigma_conditions.csv\",encoding='ISO-8859-1')\n",
    "non_stigma_condition_data = pd.read_csv(\"non_stigma_conditions.csv\",encoding='ISO-8859-1')\n",
    "\n",
    "# Load prompt templates\n",
    "prompt_templates_for_sentiment_analysis = ['They are people who VERB/BE CONDITION.',\n",
    "                                           \"These are people who VERB/BE CONDITION.\"]\n",
    "\n",
    "# write prompts\n",
    "sentiment_prompts_info = write_prompts(stigma_data,prompt_templates_for_sentiment_analysis,True)\n",
    "sentiment_prompts_info_nonstigma = write_prompts(non_stigma_condition_data,prompt_templates_for_sentiment_analysis,True)"
   ]
  },
  {
   "cell_type": "code",
   "execution_count": null,
   "metadata": {},
   "outputs": [],
   "source": [
    "from helper_functions import run_sentiment_analysis\n",
    "\n",
    "Model1 = \"distilbert-base-uncased-finetuned-sst-2-english\"\n",
    "Model2 = \"siebert/sentiment-roberta-large-english\"\n",
    "Model3 = \"cardiffnlp/twitter-roberta-base-sentiment-latest\"\n",
    "Model4 = \"finiteautomata/bertweet-base-sentiment-analysis\"\n",
    "\n",
    "result1= run_sentiment_analysis(Model1,sentiment_prompts_info)\n",
    "# result1.to_csv(\"distilbert_stigma_sentiment.csv\")\n",
    "result2 = run_sentiment_analysis(Model1,sentiment_prompts_info_nonstigma)\n",
    "# result2.to_csv(\"distilbert_nonstigma_sentiment.csv\")\n",
    "\n",
    "result3 = run_sentiment_analysis(Model2,sentiment_prompts_info)\n",
    "# result3.to_csv(\"SiEBERT_stigma_sentiment.csv\")\n",
    "result4 = run_sentiment_analysis(Model2,sentiment_prompts_info_nonstigma)\n",
    "# result4.to_csv(\"SiEBERT_nonstigma_sentiment.csv\")\n",
    "\n",
    "result5 = run_sentiment_analysis(Model3,sentiment_prompts_info)\n",
    "# result5.to_csv(\"TwitterRB_stigma_sentiment.csv\")\n",
    "result6 = run_sentiment_analysis(Model3,sentiment_prompts_info_nonstigma)\n",
    "# result6.to_csv(\"TwitterRB_nonstigma_sentiment.csv\")\n",
    "\n",
    "result7= run_sentiment_analysis(Model4,sentiment_prompts_info)\n",
    "# result7.to_csv(\"bertweet-base_stigma_sentiment.csv\")\n",
    "result8 = run_sentiment_analysis(Model4,sentiment_prompts_info_nonstigma)\n",
    "# result8.to_csv(\"bertweet-base_nonstigma_sentiment.csv\")"
   ]
  },
  {
   "attachments": {},
   "cell_type": "markdown",
   "metadata": {},
   "source": [
    "Baseline prompts \"They are people\". \"These are people.\""
   ]
  },
  {
   "cell_type": "code",
   "execution_count": null,
   "metadata": {},
   "outputs": [],
   "source": [
    "from transformers import pipeline\n",
    "sentiment_analysis = pipeline(\"sentiment-analysis\",model=\"siebert/sentiment-roberta-large-english\")\n",
    "print(sentiment_analysis(\"These are people.\"))\n",
    "print(sentiment_analysis(\"They are people.\"))\n",
    "\n",
    "sentiment_analysis = pipeline(\"sentiment-analysis\",model=\"cardiffnlp/twitter-roberta-base-sentiment-latest\")\n",
    "print(sentiment_analysis(\"These are people.\"))\n",
    "print(sentiment_analysis(\"They are people.\"))\n",
    "\n",
    "sentiment_analysis = pipeline(\"sentiment-analysis\",model=\"finiteautomata/bertweet-base-sentiment-analysis\")\n",
    "print(sentiment_analysis(\"These are people.\"))\n",
    "print(sentiment_analysis(\"They are people.\"))\n",
    "\n",
    "sentiment_analysis = pipeline(\"sentiment-analysis\",model=\"distilbert-base-uncased-finetuned-sst-2-english\")\n",
    "print(sentiment_analysis(\"These are people.\"))\n",
    "print(sentiment_analysis(\"They are people.\"))\n"
   ]
  }
 ],
 "metadata": {
  "kernelspec": {
   "display_name": "turtle",
   "language": "python",
   "name": "python3"
  },
  "language_info": {
   "codemirror_mode": {
    "name": "ipython",
    "version": 3
   },
   "file_extension": ".py",
   "mimetype": "text/x-python",
   "name": "python",
   "nbconvert_exporter": "python",
   "pygments_lexer": "ipython3",
   "version": "3.9.15"
  },
  "orig_nbformat": 4
 },
 "nbformat": 4,
 "nbformat_minor": 2
}
